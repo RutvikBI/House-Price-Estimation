{
  "nbformat": 4,
  "nbformat_minor": 0,
  "metadata": {
    "kernelspec": {
      "display_name": "Python 3",
      "language": "python",
      "name": "python3"
    },
    "language_info": {
      "codemirror_mode": {
        "name": "ipython",
        "version": 3
      },
      "file_extension": ".py",
      "mimetype": "text/x-python",
      "name": "python",
      "nbconvert_exporter": "python",
      "pygments_lexer": "ipython3",
      "version": "3.7.3"
    },
    "colab": {
      "name": "HousePriceEstimation.ipynb",
      "provenance": [],
      "collapsed_sections": [],
      "machine_shape": "hm"
    }
  },
  "cells": [
    {
      "cell_type": "markdown",
      "metadata": {
        "id": "vQvz5RZI1rp0",
        "colab_type": "text"
      },
      "source": [
        "Connect to Drive for Data"
      ]
    },
    {
      "cell_type": "code",
      "metadata": {
        "id": "KFGtC9jkUMH9",
        "colab_type": "code",
        "colab": {
          "base_uri": "https://localhost:8080/",
          "height": 122
        },
        "outputId": "577fdeef-0c0b-4e12-b7cb-b23c24661108"
      },
      "source": [
        "from google.colab import drive\n",
        "drive.mount('/content/drive')"
      ],
      "execution_count": 1,
      "outputs": [
        {
          "output_type": "stream",
          "text": [
            "Go to this URL in a browser: https://accounts.google.com/o/oauth2/auth?client_id=947318989803-6bn6qk8qdgf4n4g3pfee6491hc0brc4i.apps.googleusercontent.com&redirect_uri=urn%3aietf%3awg%3aoauth%3a2.0%3aoob&response_type=code&scope=email%20https%3a%2f%2fwww.googleapis.com%2fauth%2fdocs.test%20https%3a%2f%2fwww.googleapis.com%2fauth%2fdrive%20https%3a%2f%2fwww.googleapis.com%2fauth%2fdrive.photos.readonly%20https%3a%2f%2fwww.googleapis.com%2fauth%2fpeopleapi.readonly\n",
            "\n",
            "Enter your authorization code:\n",
            "··········\n",
            "Mounted at /content/drive\n"
          ],
          "name": "stdout"
        }
      ]
    },
    {
      "cell_type": "markdown",
      "metadata": {
        "id": "hFRFltWL10GL",
        "colab_type": "text"
      },
      "source": [
        "Load Files"
      ]
    },
    {
      "cell_type": "code",
      "metadata": {
        "id": "s9zZZu9-TUrA",
        "colab_type": "code",
        "colab": {}
      },
      "source": [
        "import pandas as pd\n",
        "import numpy as np\n",
        "from sklearn.model_selection import train_test_split\n",
        "from sklearn import ensemble\n",
        "from sklearn.metrics import mean_absolute_error\n",
        "from sklearn.model_selection import GridSearchCV"
      ],
      "execution_count": 21,
      "outputs": []
    },
    {
      "cell_type": "code",
      "metadata": {
        "id": "orzTIOAbkqi_",
        "colab_type": "code",
        "colab": {
          "base_uri": "https://localhost:8080/",
          "height": 532
        },
        "outputId": "7978af6a-564f-4e8f-8855-81ab27387cd9"
      },
      "source": [
        "ml_house_data_set = pd.read_csv('/content/drive/My Drive/Datasets/ml_house_data_set.csv')\n",
        "ml_house_data_set.head(10)"
      ],
      "execution_count": 3,
      "outputs": [
        {
          "output_type": "execute_result",
          "data": {
            "text/html": [
              "<div>\n",
              "<style scoped>\n",
              "    .dataframe tbody tr th:only-of-type {\n",
              "        vertical-align: middle;\n",
              "    }\n",
              "\n",
              "    .dataframe tbody tr th {\n",
              "        vertical-align: top;\n",
              "    }\n",
              "\n",
              "    .dataframe thead th {\n",
              "        text-align: right;\n",
              "    }\n",
              "</style>\n",
              "<table border=\"1\" class=\"dataframe\">\n",
              "  <thead>\n",
              "    <tr style=\"text-align: right;\">\n",
              "      <th></th>\n",
              "      <th>year_built</th>\n",
              "      <th>stories</th>\n",
              "      <th>num_bedrooms</th>\n",
              "      <th>full_bathrooms</th>\n",
              "      <th>half_bathrooms</th>\n",
              "      <th>livable_sqft</th>\n",
              "      <th>total_sqft</th>\n",
              "      <th>garage_type</th>\n",
              "      <th>garage_sqft</th>\n",
              "      <th>carport_sqft</th>\n",
              "      <th>has_fireplace</th>\n",
              "      <th>has_pool</th>\n",
              "      <th>has_central_heating</th>\n",
              "      <th>has_central_cooling</th>\n",
              "      <th>house_number</th>\n",
              "      <th>street_name</th>\n",
              "      <th>unit_number</th>\n",
              "      <th>city</th>\n",
              "      <th>zip_code</th>\n",
              "      <th>sale_price</th>\n",
              "    </tr>\n",
              "  </thead>\n",
              "  <tbody>\n",
              "    <tr>\n",
              "      <th>0</th>\n",
              "      <td>1978</td>\n",
              "      <td>1</td>\n",
              "      <td>4</td>\n",
              "      <td>1</td>\n",
              "      <td>1</td>\n",
              "      <td>1689</td>\n",
              "      <td>1859</td>\n",
              "      <td>attached</td>\n",
              "      <td>508</td>\n",
              "      <td>0</td>\n",
              "      <td>True</td>\n",
              "      <td>False</td>\n",
              "      <td>True</td>\n",
              "      <td>True</td>\n",
              "      <td>42670</td>\n",
              "      <td>Lopez Crossing</td>\n",
              "      <td>NaN</td>\n",
              "      <td>Hallfort</td>\n",
              "      <td>10907</td>\n",
              "      <td>270897.0</td>\n",
              "    </tr>\n",
              "    <tr>\n",
              "      <th>1</th>\n",
              "      <td>1958</td>\n",
              "      <td>1</td>\n",
              "      <td>3</td>\n",
              "      <td>1</td>\n",
              "      <td>1</td>\n",
              "      <td>1984</td>\n",
              "      <td>2002</td>\n",
              "      <td>attached</td>\n",
              "      <td>462</td>\n",
              "      <td>0</td>\n",
              "      <td>True</td>\n",
              "      <td>False</td>\n",
              "      <td>True</td>\n",
              "      <td>True</td>\n",
              "      <td>5194</td>\n",
              "      <td>Gardner Park</td>\n",
              "      <td>NaN</td>\n",
              "      <td>Hallfort</td>\n",
              "      <td>10907</td>\n",
              "      <td>302404.0</td>\n",
              "    </tr>\n",
              "    <tr>\n",
              "      <th>2</th>\n",
              "      <td>2002</td>\n",
              "      <td>1</td>\n",
              "      <td>3</td>\n",
              "      <td>2</td>\n",
              "      <td>0</td>\n",
              "      <td>1581</td>\n",
              "      <td>1578</td>\n",
              "      <td>none</td>\n",
              "      <td>0</td>\n",
              "      <td>625</td>\n",
              "      <td>False</td>\n",
              "      <td>False</td>\n",
              "      <td>True</td>\n",
              "      <td>True</td>\n",
              "      <td>4366</td>\n",
              "      <td>Harding Islands</td>\n",
              "      <td>NaN</td>\n",
              "      <td>Lake Christinaport</td>\n",
              "      <td>11203</td>\n",
              "      <td>2519996.0</td>\n",
              "    </tr>\n",
              "    <tr>\n",
              "      <th>3</th>\n",
              "      <td>2004</td>\n",
              "      <td>1</td>\n",
              "      <td>4</td>\n",
              "      <td>2</td>\n",
              "      <td>0</td>\n",
              "      <td>1829</td>\n",
              "      <td>2277</td>\n",
              "      <td>attached</td>\n",
              "      <td>479</td>\n",
              "      <td>0</td>\n",
              "      <td>True</td>\n",
              "      <td>False</td>\n",
              "      <td>True</td>\n",
              "      <td>True</td>\n",
              "      <td>3302</td>\n",
              "      <td>Michelle Highway</td>\n",
              "      <td>NaN</td>\n",
              "      <td>Lake Christinaport</td>\n",
              "      <td>11203</td>\n",
              "      <td>197193.0</td>\n",
              "    </tr>\n",
              "    <tr>\n",
              "      <th>4</th>\n",
              "      <td>2006</td>\n",
              "      <td>1</td>\n",
              "      <td>4</td>\n",
              "      <td>2</td>\n",
              "      <td>0</td>\n",
              "      <td>1580</td>\n",
              "      <td>1749</td>\n",
              "      <td>attached</td>\n",
              "      <td>430</td>\n",
              "      <td>0</td>\n",
              "      <td>True</td>\n",
              "      <td>False</td>\n",
              "      <td>True</td>\n",
              "      <td>True</td>\n",
              "      <td>582</td>\n",
              "      <td>Jacob Cape</td>\n",
              "      <td>NaN</td>\n",
              "      <td>Lake Christinaport</td>\n",
              "      <td>11203</td>\n",
              "      <td>207897.0</td>\n",
              "    </tr>\n",
              "    <tr>\n",
              "      <th>5</th>\n",
              "      <td>2005</td>\n",
              "      <td>1</td>\n",
              "      <td>3</td>\n",
              "      <td>2</td>\n",
              "      <td>0</td>\n",
              "      <td>1621</td>\n",
              "      <td>1672</td>\n",
              "      <td>attached</td>\n",
              "      <td>430</td>\n",
              "      <td>0</td>\n",
              "      <td>True</td>\n",
              "      <td>False</td>\n",
              "      <td>True</td>\n",
              "      <td>True</td>\n",
              "      <td>78445</td>\n",
              "      <td>Michelle Highway</td>\n",
              "      <td>NaN</td>\n",
              "      <td>Lake Christinaport</td>\n",
              "      <td>11203</td>\n",
              "      <td>196559.0</td>\n",
              "    </tr>\n",
              "    <tr>\n",
              "      <th>6</th>\n",
              "      <td>1979</td>\n",
              "      <td>1</td>\n",
              "      <td>3</td>\n",
              "      <td>2</td>\n",
              "      <td>1</td>\n",
              "      <td>2285</td>\n",
              "      <td>2365</td>\n",
              "      <td>detached</td>\n",
              "      <td>532</td>\n",
              "      <td>0</td>\n",
              "      <td>True</td>\n",
              "      <td>False</td>\n",
              "      <td>True</td>\n",
              "      <td>True</td>\n",
              "      <td>246</td>\n",
              "      <td>Harris Estates</td>\n",
              "      <td>NaN</td>\n",
              "      <td>Morrisport</td>\n",
              "      <td>10924</td>\n",
              "      <td>434697.0</td>\n",
              "    </tr>\n",
              "    <tr>\n",
              "      <th>7</th>\n",
              "      <td>1958</td>\n",
              "      <td>1</td>\n",
              "      <td>5</td>\n",
              "      <td>2</td>\n",
              "      <td>0</td>\n",
              "      <td>1745</td>\n",
              "      <td>1741</td>\n",
              "      <td>none</td>\n",
              "      <td>0</td>\n",
              "      <td>0</td>\n",
              "      <td>False</td>\n",
              "      <td>False</td>\n",
              "      <td>False</td>\n",
              "      <td>False</td>\n",
              "      <td>35725</td>\n",
              "      <td>Jessica Isle</td>\n",
              "      <td>NaN</td>\n",
              "      <td>Lake Christinaport</td>\n",
              "      <td>11203</td>\n",
              "      <td>64887.0</td>\n",
              "    </tr>\n",
              "    <tr>\n",
              "      <th>8</th>\n",
              "      <td>1958</td>\n",
              "      <td>1</td>\n",
              "      <td>5</td>\n",
              "      <td>2</td>\n",
              "      <td>0</td>\n",
              "      <td>1747</td>\n",
              "      <td>1745</td>\n",
              "      <td>none</td>\n",
              "      <td>0</td>\n",
              "      <td>0</td>\n",
              "      <td>False</td>\n",
              "      <td>False</td>\n",
              "      <td>False</td>\n",
              "      <td>False</td>\n",
              "      <td>35725</td>\n",
              "      <td>Jessica Isle</td>\n",
              "      <td>NaN</td>\n",
              "      <td>Lake Christinaport</td>\n",
              "      <td>11203</td>\n",
              "      <td>143636.0</td>\n",
              "    </tr>\n",
              "    <tr>\n",
              "      <th>9</th>\n",
              "      <td>1961</td>\n",
              "      <td>1</td>\n",
              "      <td>1</td>\n",
              "      <td>1</td>\n",
              "      <td>0</td>\n",
              "      <td>998</td>\n",
              "      <td>1161</td>\n",
              "      <td>none</td>\n",
              "      <td>0</td>\n",
              "      <td>242</td>\n",
              "      <td>False</td>\n",
              "      <td>False</td>\n",
              "      <td>False</td>\n",
              "      <td>False</td>\n",
              "      <td>73327</td>\n",
              "      <td>Kurt Crescent</td>\n",
              "      <td>NaN</td>\n",
              "      <td>Lake Christinaport</td>\n",
              "      <td>11203</td>\n",
              "      <td>81896.0</td>\n",
              "    </tr>\n",
              "  </tbody>\n",
              "</table>\n",
              "</div>"
            ],
            "text/plain": [
              "   year_built  stories  num_bedrooms  ...                city  zip_code  sale_price\n",
              "0        1978        1             4  ...            Hallfort     10907    270897.0\n",
              "1        1958        1             3  ...            Hallfort     10907    302404.0\n",
              "2        2002        1             3  ...  Lake Christinaport     11203   2519996.0\n",
              "3        2004        1             4  ...  Lake Christinaport     11203    197193.0\n",
              "4        2006        1             4  ...  Lake Christinaport     11203    207897.0\n",
              "5        2005        1             3  ...  Lake Christinaport     11203    196559.0\n",
              "6        1979        1             3  ...          Morrisport     10924    434697.0\n",
              "7        1958        1             5  ...  Lake Christinaport     11203     64887.0\n",
              "8        1958        1             5  ...  Lake Christinaport     11203    143636.0\n",
              "9        1961        1             1  ...  Lake Christinaport     11203     81896.0\n",
              "\n",
              "[10 rows x 20 columns]"
            ]
          },
          "metadata": {
            "tags": []
          },
          "execution_count": 3
        }
      ]
    },
    {
      "cell_type": "code",
      "metadata": {
        "id": "MsjH05Talb87",
        "colab_type": "code",
        "colab": {}
      },
      "source": [
        "# Remove the fields from the data set that we don't want to include in our model\n",
        "del ml_house_data_set['house_number']\n",
        "del ml_house_data_set['unit_number']\n",
        "del ml_house_data_set['street_name']\n",
        "del ml_house_data_set['zip_code']"
      ],
      "execution_count": 4,
      "outputs": []
    },
    {
      "cell_type": "code",
      "metadata": {
        "id": "PZgU7dItlnXB",
        "colab_type": "code",
        "colab": {}
      },
      "source": [
        "# Replace categorical data with one-hot encoded data\n",
        "features_ml_house_data_set = pd.get_dummies(ml_house_data_set, columns=['garage_type', 'city'])"
      ],
      "execution_count": 6,
      "outputs": []
    },
    {
      "cell_type": "code",
      "metadata": {
        "id": "yI5H4hIolsgS",
        "colab_type": "code",
        "colab": {}
      },
      "source": [
        "# Remove the sale price from the feature data\n",
        "del features_ml_house_data_set['sale_price']"
      ],
      "execution_count": 7,
      "outputs": []
    },
    {
      "cell_type": "code",
      "metadata": {
        "id": "nvQ2Ai2-lwTM",
        "colab_type": "code",
        "colab": {}
      },
      "source": [
        "# Create the X and y arrays\n",
        "X = features_ml_house_data_set.to_numpy() \n",
        "y = ml_house_data_set['sale_price'].to_numpy() "
      ],
      "execution_count": 13,
      "outputs": []
    },
    {
      "cell_type": "code",
      "metadata": {
        "id": "RgEYlXQSm0T5",
        "colab_type": "code",
        "colab": {}
      },
      "source": [
        "# Split the data set in a training set (70%) and a test set (30%)\n",
        "X_train, X_test, y_train, y_test = train_test_split(X, y, test_size=0.3, random_state=0)"
      ],
      "execution_count": 17,
      "outputs": []
    },
    {
      "cell_type": "code",
      "metadata": {
        "id": "HXHjfyEYm_Of",
        "colab_type": "code",
        "colab": {}
      },
      "source": [
        "# Create the model\n",
        "model = ensemble.GradientBoostingRegressor(\n",
        "    n_estimators=1000,\n",
        "    learning_rate=0.1,\n",
        "    max_depth=6,\n",
        "    min_samples_leaf=9,\n",
        "    max_features=0.1,\n",
        "    loss='huber'\n",
        ")"
      ],
      "execution_count": 23,
      "outputs": []
    },
    {
      "cell_type": "code",
      "metadata": {
        "id": "sPFbOOpLxkTa",
        "colab_type": "code",
        "colab": {
          "base_uri": "https://localhost:8080/",
          "height": 170
        },
        "outputId": "dc3efd72-718a-4a60-b9c6-efc53f001e63"
      },
      "source": [
        "model.fit(X_train, y_train)"
      ],
      "execution_count": 24,
      "outputs": [
        {
          "output_type": "execute_result",
          "data": {
            "text/plain": [
              "GradientBoostingRegressor(alpha=0.9, ccp_alpha=0.0, criterion='friedman_mse',\n",
              "                          init=None, learning_rate=0.1, loss='huber',\n",
              "                          max_depth=6, max_features=0.1, max_leaf_nodes=None,\n",
              "                          min_impurity_decrease=0.0, min_impurity_split=None,\n",
              "                          min_samples_leaf=9, min_samples_split=2,\n",
              "                          min_weight_fraction_leaf=0.0, n_estimators=1000,\n",
              "                          n_iter_no_change=None, presort='deprecated',\n",
              "                          random_state=None, subsample=1.0, tol=0.0001,\n",
              "                          validation_fraction=0.1, verbose=0, warm_start=False)"
            ]
          },
          "metadata": {
            "tags": []
          },
          "execution_count": 24
        }
      ]
    },
    {
      "cell_type": "code",
      "metadata": {
        "id": "ftGxW4iDnB_6",
        "colab_type": "code",
        "colab": {}
      },
      "source": [
        "# Parameters we want to try\n",
        "#param_grid = {\n",
        "#    'n_estimators': [500, 1000, 3000],\n",
        "#    'max_depth': [4, 6],\n",
        "#    'min_samples_leaf': [3, 5, 9, 17],\n",
        "#    'learning_rate': [0.1, 0.05, 0.02, 0.01],\n",
        "#    'max_features': [1.0, 0.3, 0.1],\n",
        "#    'loss': ['ls', 'lad', 'huber']\n",
        "#}"
      ],
      "execution_count": 19,
      "outputs": []
    },
    {
      "cell_type": "code",
      "metadata": {
        "id": "IB1_1iESnF6Y",
        "colab_type": "code",
        "colab": {}
      },
      "source": [
        "# Define the grid search we want to run. Run it with four cpus in parallel.\n",
        "#gs_cv = GridSearchCV(model, param_grid, n_jobs=4)\n",
        "\n",
        "# Run the grid search - on only the training data!\n",
        "#gs_cv.fit(X_train, y_train)\n",
        "\n",
        "# Print the parameters that gave us the best result!\n",
        "#print(gs_cv.best_params_)"
      ],
      "execution_count": null,
      "outputs": []
    },
    {
      "cell_type": "code",
      "metadata": {
        "id": "vwpw8KRrnbz4",
        "colab_type": "code",
        "colab": {}
      },
      "source": [
        "# After running a .....long..... time, the output will be something like\n",
        "# {'loss': 'huber', 'learning_rate': 0.1, 'min_samples_leaf': 9, 'n_estimators': 3000, 'max_features': 0.1, 'max_depth': 6}\n",
        "\n",
        "# That is the combination that worked best."
      ],
      "execution_count": null,
      "outputs": []
    },
    {
      "cell_type": "code",
      "metadata": {
        "id": "ELpE6u_mneQe",
        "colab_type": "code",
        "colab": {
          "base_uri": "https://localhost:8080/",
          "height": 34
        },
        "outputId": "c0f11960-4a8a-4062-a15f-0873c2e49afa"
      },
      "source": [
        "# Find the error rate on the training set using the best parameters\n",
        "mse = mean_absolute_error(y_train, model.predict(X_train))\n",
        "print(\"Training Set Mean Absolute Error: %.4f\" % mse)"
      ],
      "execution_count": 26,
      "outputs": [
        {
          "output_type": "stream",
          "text": [
            "Training Set Mean Absolute Error: 49056.7464\n"
          ],
          "name": "stdout"
        }
      ]
    },
    {
      "cell_type": "code",
      "metadata": {
        "id": "AByX4vBCng6K",
        "colab_type": "code",
        "colab": {
          "base_uri": "https://localhost:8080/",
          "height": 34
        },
        "outputId": "94dccc63-686d-4554-e517-1ba0637e4dd3"
      },
      "source": [
        "# Find the error rate on the test set using the best parameters\n",
        "mse = mean_absolute_error(y_test, model.predict(X_test))\n",
        "print(\"Test Set Mean Absolute Error: %.4f\" % mse)"
      ],
      "execution_count": 27,
      "outputs": [
        {
          "output_type": "stream",
          "text": [
            "Test Set Mean Absolute Error: 58928.6450\n"
          ],
          "name": "stdout"
        }
      ]
    },
    {
      "cell_type": "code",
      "metadata": {
        "id": "rUBqdFLun4Bz",
        "colab_type": "code",
        "colab": {}
      },
      "source": [
        "# These are the feature labels from our data set\n",
        "feature_labels = np.array(['year_built', 'stories', 'num_bedrooms', 'full_bathrooms', 'half_bathrooms', 'livable_sqft', 'total_sqft', 'garage_sqft', 'carport_sqft', 'has_fireplace', 'has_pool', 'has_central_heating', 'has_central_cooling', 'garage_type_attached', 'garage_type_detached', 'garage_type_none', 'city_Amystad', 'city_Brownport', 'city_Chadstad', 'city_Clarkberg', 'city_Coletown', 'city_Davidfort', 'city_Davidtown', 'city_East Amychester', 'city_East Janiceville', 'city_East Justin', 'city_East Lucas', 'city_Fosterberg', 'city_Hallfort', 'city_Jeffreyhaven', 'city_Jenniferberg', 'city_Joshuafurt', 'city_Julieberg', 'city_Justinport', 'city_Lake Carolyn', 'city_Lake Christinaport', 'city_Lake Dariusborough', 'city_Lake Jack', 'city_Lake Jennifer', 'city_Leahview', 'city_Lewishaven', 'city_Martinezfort', 'city_Morrisport', 'city_New Michele', 'city_New Robinton', 'city_North Erinville', 'city_Port Adamtown', 'city_Port Andrealand', 'city_Port Daniel', 'city_Port Jonathanborough', 'city_Richardport', 'city_Rickytown', 'city_Scottberg', 'city_South Anthony', 'city_South Stevenfurt', 'city_Toddshire', 'city_Wendybury', 'city_West Ann', 'city_West Brittanyview', 'city_West Gerald', 'city_West Gregoryview', 'city_West Lydia', 'city_West Terrence'])"
      ],
      "execution_count": 28,
      "outputs": []
    },
    {
      "cell_type": "markdown",
      "metadata": {
        "id": "LkYmNiXooPZo",
        "colab_type": "text"
      },
      "source": [
        "**Feature Selection**"
      ]
    },
    {
      "cell_type": "code",
      "metadata": {
        "id": "k66rJx0kn5at",
        "colab_type": "code",
        "colab": {
          "base_uri": "https://localhost:8080/",
          "height": 1000
        },
        "outputId": "8774d419-2da5-4521-e482-5862872a1058"
      },
      "source": [
        "# Create a numpy array based on the model's feature importances\n",
        "importance = model.feature_importances_\n",
        "\n",
        "# Sort the feature labels based on the feature importance rankings from the model\n",
        "feauture_indexes_by_importance = importance.argsort()\n",
        "\n",
        "# Print each feature label, from most important to least important (reverse order)\n",
        "for index in feauture_indexes_by_importance:\n",
        "    print(\"{} - {:.2f}%\".format(feature_labels[index], (importance[index] * 100.0)))"
      ],
      "execution_count": 29,
      "outputs": [
        {
          "output_type": "stream",
          "text": [
            "city_New Robinton - 0.00%\n",
            "city_New Michele - 0.00%\n",
            "city_Martinezfort - 0.00%\n",
            "city_Julieberg - 0.00%\n",
            "city_Davidtown - 0.00%\n",
            "city_West Terrence - 0.00%\n",
            "city_Lake Jennifer - 0.01%\n",
            "city_Rickytown - 0.01%\n",
            "city_Fosterberg - 0.01%\n",
            "city_West Brittanyview - 0.01%\n",
            "city_East Justin - 0.01%\n",
            "city_South Stevenfurt - 0.02%\n",
            "city_Leahview - 0.02%\n",
            "city_Joshuafurt - 0.03%\n",
            "city_Toddshire - 0.03%\n",
            "city_Port Adamtown - 0.03%\n",
            "city_East Janiceville - 0.04%\n",
            "city_Brownport - 0.04%\n",
            "city_Amystad - 0.04%\n",
            "city_Port Daniel - 0.05%\n",
            "city_Wendybury - 0.05%\n",
            "city_Clarkberg - 0.09%\n",
            "has_central_cooling - 0.11%\n",
            "city_Port Jonathanborough - 0.12%\n",
            "has_central_heating - 0.12%\n",
            "city_Davidfort - 0.14%\n",
            "city_West Lydia - 0.15%\n",
            "city_North Erinville - 0.17%\n",
            "city_West Gerald - 0.18%\n",
            "city_Jenniferberg - 0.18%\n",
            "city_East Amychester - 0.23%\n",
            "city_Lewishaven - 0.23%\n",
            "city_Morrisport - 0.26%\n",
            "city_Richardport - 0.30%\n",
            "city_West Gregoryview - 0.33%\n",
            "city_Lake Dariusborough - 0.38%\n",
            "city_East Lucas - 0.38%\n",
            "city_South Anthony - 0.43%\n",
            "city_West Ann - 0.45%\n",
            "garage_type_detached - 0.52%\n",
            "city_Lake Carolyn - 0.52%\n",
            "city_Justinport - 0.62%\n",
            "half_bathrooms - 0.65%\n",
            "city_Hallfort - 0.70%\n",
            "city_Chadstad - 1.11%\n",
            "stories - 1.19%\n",
            "city_Scottberg - 1.36%\n",
            "full_bathrooms - 1.38%\n",
            "city_Port Andrealand - 1.70%\n",
            "city_Lake Jack - 1.71%\n",
            "city_Lake Christinaport - 1.78%\n",
            "garage_type_none - 2.09%\n",
            "city_Jeffreyhaven - 3.21%\n",
            "has_fireplace - 3.54%\n",
            "city_Coletown - 4.56%\n",
            "garage_type_attached - 4.61%\n",
            "num_bedrooms - 4.68%\n",
            "has_pool - 5.27%\n",
            "carport_sqft - 5.49%\n",
            "year_built - 7.60%\n",
            "garage_sqft - 9.50%\n",
            "livable_sqft - 11.91%\n",
            "total_sqft - 19.66%\n"
          ],
          "name": "stdout"
        }
      ]
    },
    {
      "cell_type": "markdown",
      "metadata": {
        "id": "obJhwBr3oXmR",
        "colab_type": "text"
      },
      "source": [
        "**Price Estimation**"
      ]
    },
    {
      "cell_type": "code",
      "metadata": {
        "id": "JaVqVhQAoDgc",
        "colab_type": "code",
        "colab": {}
      },
      "source": [
        "# For the house we want to value, we need to provide the features in the exact same\n",
        "# arrangement as our training data set.\n",
        "house_to_value = [\n",
        "    # House features\n",
        "    2006,   # year_built\n",
        "    1,      # stories\n",
        "    4,      # num_bedrooms\n",
        "    3,      # full_bathrooms\n",
        "    0,      # half_bathrooms \n",
        "    2200,   # livable_sqft\n",
        "    2350,   # total_sqft\n",
        "    0,      # garage_sqft\n",
        "    0,      # carport_sqft\n",
        "    True,   # has_fireplace\n",
        "    False,  # has_pool\n",
        "    True,   # has_central_heating\n",
        "    True,   # has_central_cooling\n",
        "    \n",
        "    # Garage type: Choose only one\n",
        "    0,      # attached\n",
        "    0,      # detached\n",
        "    1,      # none\n",
        "    \n",
        "    # City: Choose only one\n",
        "    0,      # Amystad\n",
        "    1,      # Brownport\n",
        "    0,      # Chadstad\n",
        "    0,      # Clarkberg\n",
        "    0,      # Coletown\n",
        "    0,      # Davidfort\n",
        "    0,      # Davidtown\n",
        "    0,      # East Amychester\n",
        "    0,      # East Janiceville\n",
        "    0,      # East Justin\n",
        "    0,      # East Lucas\n",
        "    0,      # Fosterberg\n",
        "    0,      # Hallfort\n",
        "    0,      # Jeffreyhaven\n",
        "    0,      # Jenniferberg\n",
        "    0,      # Joshuafurt\n",
        "    0,      # Julieberg\n",
        "    0,      # Justinport\n",
        "    0,      # Lake Carolyn\n",
        "    0,      # Lake Christinaport\n",
        "    0,      # Lake Dariusborough\n",
        "    0,      # Lake Jack\n",
        "    0,      # Lake Jennifer\n",
        "    0,      # Leahview\n",
        "    0,      # Lewishaven\n",
        "    0,      # Martinezfort\n",
        "    0,      # Morrisport\n",
        "    0,      # New Michele\n",
        "    0,      # New Robinton\n",
        "    0,      # North Erinville\n",
        "    0,      # Port Adamtown\n",
        "    0,      # Port Andrealand\n",
        "    0,      # Port Daniel\n",
        "    0,      # Port Jonathanborough\n",
        "    0,      # Richardport\n",
        "    0,      # Rickytown\n",
        "    0,      # Scottberg\n",
        "    0,      # South Anthony\n",
        "    0,      # South Stevenfurt\n",
        "    0,      # Toddshire\n",
        "    0,      # Wendybury\n",
        "    0,      # West Ann\n",
        "    0,      # West Brittanyview\n",
        "    0,      # West Gerald\n",
        "    0,      # West Gregoryview\n",
        "    0,      # West Lydia\n",
        "    0       # West Terrence\n",
        "]"
      ],
      "execution_count": 30,
      "outputs": []
    },
    {
      "cell_type": "code",
      "metadata": {
        "id": "XIRJBjHzoEli",
        "colab_type": "code",
        "colab": {
          "base_uri": "https://localhost:8080/",
          "height": 34
        },
        "outputId": "ac21a364-4789-4dcf-9e18-19ba4183600d"
      },
      "source": [
        "# scikit-learn assumes you want to predict the values for lots of houses at once, so it expects an array.\n",
        "# We just want to look at a single house, so it will be the only item in our array.\n",
        "homes_to_value = [\n",
        "    house_to_value\n",
        "]\n",
        "\n",
        "# Run the model and make a prediction for each house in the homes_to_value array\n",
        "predicted_home_values = model.predict(homes_to_value)\n",
        "\n",
        "# Since we are only predicting the price of one house, just look at the first prediction returned\n",
        "predicted_value = predicted_home_values[0]\n",
        "\n",
        "print(\"This house has an estimated value of ${:,.2f}\".format(predicted_value))"
      ],
      "execution_count": 31,
      "outputs": [
        {
          "output_type": "stream",
          "text": [
            "This house has an estimated value of $603,876.31\n"
          ],
          "name": "stdout"
        }
      ]
    }
  ]
}